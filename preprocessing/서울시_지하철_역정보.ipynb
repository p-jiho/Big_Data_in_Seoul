{
 "cells": [
  {
   "cell_type": "code",
   "execution_count": 2,
   "id": "e4a281e4",
   "metadata": {},
   "outputs": [],
   "source": [
    "import pandas as pd"
   ]
  },
  {
   "cell_type": "code",
   "execution_count": 3,
   "id": "1014689f",
   "metadata": {},
   "outputs": [],
   "source": [
    "data = pd.read_excel(\"../데이터(1차)/서울시_지하철_역정보.xlsx\")\n",
    "\n",
    "# \"SUBWAY_ID\", \"STATN_ID\" column은 데이터 분석에 불필요한 열이라 제외\n",
    "data = data.loc[:,~data.columns.isin([\"SUBWAY_ID\", \"STATN_ID\"])]\n",
    "data.columns = [\"지하철역\", \"호선명\"]"
   ]
  },
  {
   "cell_type": "code",
   "execution_count": 4,
   "id": "90f3b1c2",
   "metadata": {},
   "outputs": [
    {
     "data": {
      "text/html": [
       "<div>\n",
       "<style scoped>\n",
       "    .dataframe tbody tr th:only-of-type {\n",
       "        vertical-align: middle;\n",
       "    }\n",
       "\n",
       "    .dataframe tbody tr th {\n",
       "        vertical-align: top;\n",
       "    }\n",
       "\n",
       "    .dataframe thead th {\n",
       "        text-align: right;\n",
       "    }\n",
       "</style>\n",
       "<table border=\"1\" class=\"dataframe\">\n",
       "  <thead>\n",
       "    <tr style=\"text-align: right;\">\n",
       "      <th></th>\n",
       "      <th>지하철역</th>\n",
       "      <th>호선명</th>\n",
       "    </tr>\n",
       "  </thead>\n",
       "  <tbody>\n",
       "    <tr>\n",
       "      <th>0</th>\n",
       "      <td>소요산</td>\n",
       "      <td>1호선</td>\n",
       "    </tr>\n",
       "    <tr>\n",
       "      <th>1</th>\n",
       "      <td>동두천</td>\n",
       "      <td>1호선</td>\n",
       "    </tr>\n",
       "    <tr>\n",
       "      <th>2</th>\n",
       "      <td>보산</td>\n",
       "      <td>1호선</td>\n",
       "    </tr>\n",
       "    <tr>\n",
       "      <th>3</th>\n",
       "      <td>동두천중앙</td>\n",
       "      <td>1호선</td>\n",
       "    </tr>\n",
       "    <tr>\n",
       "      <th>4</th>\n",
       "      <td>지행</td>\n",
       "      <td>1호선</td>\n",
       "    </tr>\n",
       "    <tr>\n",
       "      <th>...</th>\n",
       "      <td>...</td>\n",
       "      <td>...</td>\n",
       "    </tr>\n",
       "    <tr>\n",
       "      <th>659</th>\n",
       "      <td>달미</td>\n",
       "      <td>서해선</td>\n",
       "    </tr>\n",
       "    <tr>\n",
       "      <th>660</th>\n",
       "      <td>선부</td>\n",
       "      <td>서해선</td>\n",
       "    </tr>\n",
       "    <tr>\n",
       "      <th>661</th>\n",
       "      <td>초지</td>\n",
       "      <td>서해선</td>\n",
       "    </tr>\n",
       "    <tr>\n",
       "      <th>662</th>\n",
       "      <td>시우</td>\n",
       "      <td>서해선</td>\n",
       "    </tr>\n",
       "    <tr>\n",
       "      <th>663</th>\n",
       "      <td>원시</td>\n",
       "      <td>서해선</td>\n",
       "    </tr>\n",
       "  </tbody>\n",
       "</table>\n",
       "<p>664 rows × 2 columns</p>\n",
       "</div>"
      ],
      "text/plain": [
       "      지하철역  호선명\n",
       "0      소요산  1호선\n",
       "1      동두천  1호선\n",
       "2       보산  1호선\n",
       "3    동두천중앙  1호선\n",
       "4       지행  1호선\n",
       "..     ...  ...\n",
       "659     달미  서해선\n",
       "660     선부  서해선\n",
       "661     초지  서해선\n",
       "662     시우  서해선\n",
       "663     원시  서해선\n",
       "\n",
       "[664 rows x 2 columns]"
      ]
     },
     "execution_count": 4,
     "metadata": {},
     "output_type": "execute_result"
    }
   ],
   "source": [
    "data"
   ]
  },
  {
   "cell_type": "code",
   "execution_count": 5,
   "id": "8b65055d",
   "metadata": {},
   "outputs": [
    {
     "data": {
      "text/plain": [
       "17"
      ]
     },
     "execution_count": 5,
     "metadata": {},
     "output_type": "execute_result"
    }
   ],
   "source": [
    "len(set(data.호선명))"
   ]
  },
  {
   "cell_type": "code",
   "execution_count": 6,
   "id": "9747cfbd",
   "metadata": {},
   "outputs": [
    {
     "data": {
      "text/plain": [
       "{'1호선',\n",
       " '2호선',\n",
       " '3호선',\n",
       " '4호선',\n",
       " '5호선',\n",
       " '6호선',\n",
       " '7호선',\n",
       " '8호선',\n",
       " '9호선',\n",
       " '경강선',\n",
       " '경의중앙선',\n",
       " '경춘선',\n",
       " '공항철도',\n",
       " '서해선',\n",
       " '수인분당선',\n",
       " '신분당선',\n",
       " '우이신설선'}"
      ]
     },
     "execution_count": 6,
     "metadata": {},
     "output_type": "execute_result"
    }
   ],
   "source": [
    "set(data.호선명)"
   ]
  },
  {
   "cell_type": "code",
   "execution_count": 27,
   "id": "af3d51c9",
   "metadata": {},
   "outputs": [
    {
     "data": {
      "text/plain": [
       "543"
      ]
     },
     "execution_count": 27,
     "metadata": {},
     "output_type": "execute_result"
    }
   ],
   "source": [
    "len(set(data.지하철역))\n"
   ]
  },
  {
   "cell_type": "code",
   "execution_count": 26,
   "id": "604fc4cb",
   "metadata": {},
   "outputs": [],
   "source": [
    "data.to_excel(\"../데이터(1차)/서울시_지하철_역정보.xlsx\", index = False)"
   ]
  }
 ],
 "metadata": {
  "kernelspec": {
   "display_name": "Python 3 (ipykernel)",
   "language": "python",
   "name": "python3"
  },
  "language_info": {
   "codemirror_mode": {
    "name": "ipython",
    "version": 3
   },
   "file_extension": ".py",
   "mimetype": "text/x-python",
   "name": "python",
   "nbconvert_exporter": "python",
   "pygments_lexer": "ipython3",
   "version": "3.9.13"
  }
 },
 "nbformat": 4,
 "nbformat_minor": 5
}
