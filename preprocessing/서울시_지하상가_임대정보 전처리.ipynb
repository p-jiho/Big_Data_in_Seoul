{
 "cells": [
  {
   "cell_type": "code",
   "execution_count": 1,
   "id": "3c04154a",
   "metadata": {},
   "outputs": [],
   "source": [
    "import pandas as pd"
   ]
  },
  {
   "cell_type": "code",
   "execution_count": 40,
   "id": "c6bd9553",
   "metadata": {},
   "outputs": [],
   "source": [
    "data = pd.read_csv(\"../데이터(1차)/서울시_지하상가_임대정보.csv\", encoding='cp949')\n",
    "\n",
    "# \"연번\", \"상가번호\", \"영업업종\" column은 데이터 분석에 불필요한 열이라 제외\n",
    "data = data.loc[:,~data.columns.isin([\"연번\", \"상가번호\",\"영업업종\"])] "
   ]
  },
  {
   "cell_type": "code",
   "execution_count": 41,
   "id": "79efa6b0",
   "metadata": {},
   "outputs": [
    {
     "data": {
      "text/html": [
       "<div>\n",
       "<style scoped>\n",
       "    .dataframe tbody tr th:only-of-type {\n",
       "        vertical-align: middle;\n",
       "    }\n",
       "\n",
       "    .dataframe tbody tr th {\n",
       "        vertical-align: top;\n",
       "    }\n",
       "\n",
       "    .dataframe thead th {\n",
       "        text-align: right;\n",
       "    }\n",
       "</style>\n",
       "<table border=\"1\" class=\"dataframe\">\n",
       "  <thead>\n",
       "    <tr style=\"text-align: right;\">\n",
       "      <th></th>\n",
       "      <th>상가유형</th>\n",
       "      <th>호선</th>\n",
       "      <th>역명</th>\n",
       "      <th>면적(제곱미터)</th>\n",
       "      <th>계약시작일자</th>\n",
       "      <th>계약종료일자</th>\n",
       "      <th>월임대료</th>\n",
       "      <th>사업진행단계</th>\n",
       "    </tr>\n",
       "  </thead>\n",
       "  <tbody>\n",
       "    <tr>\n",
       "      <th>0</th>\n",
       "      <td>개별(일반)</td>\n",
       "      <td>1호선</td>\n",
       "      <td>서울(1)역</td>\n",
       "      <td>33.00</td>\n",
       "      <td>2019-06-20</td>\n",
       "      <td>2024-06-19</td>\n",
       "      <td>380100.0</td>\n",
       "      <td>NaN</td>\n",
       "    </tr>\n",
       "    <tr>\n",
       "      <th>1</th>\n",
       "      <td>네트워크</td>\n",
       "      <td>1호선</td>\n",
       "      <td>서울(1)역</td>\n",
       "      <td>12.00</td>\n",
       "      <td>2023-01-16</td>\n",
       "      <td>2028-05-16</td>\n",
       "      <td>3225582.0</td>\n",
       "      <td>NaN</td>\n",
       "    </tr>\n",
       "    <tr>\n",
       "      <th>2</th>\n",
       "      <td>개별(일반)</td>\n",
       "      <td>1호선</td>\n",
       "      <td>시청(1)역</td>\n",
       "      <td>29.73</td>\n",
       "      <td>2022-08-02</td>\n",
       "      <td>2027-08-02</td>\n",
       "      <td>3166600.0</td>\n",
       "      <td>NaN</td>\n",
       "    </tr>\n",
       "    <tr>\n",
       "      <th>3</th>\n",
       "      <td>개별(일반)</td>\n",
       "      <td>1호선</td>\n",
       "      <td>시청(1)역</td>\n",
       "      <td>57.60</td>\n",
       "      <td>2020-02-01</td>\n",
       "      <td>2025-01-31</td>\n",
       "      <td>1858300.0</td>\n",
       "      <td>NaN</td>\n",
       "    </tr>\n",
       "    <tr>\n",
       "      <th>4</th>\n",
       "      <td>개별(일반)</td>\n",
       "      <td>1호선</td>\n",
       "      <td>시청(1)역</td>\n",
       "      <td>25.00</td>\n",
       "      <td>2020-12-31</td>\n",
       "      <td>2026-01-30</td>\n",
       "      <td>2470600.0</td>\n",
       "      <td>NaN</td>\n",
       "    </tr>\n",
       "    <tr>\n",
       "      <th>...</th>\n",
       "      <td>...</td>\n",
       "      <td>...</td>\n",
       "      <td>...</td>\n",
       "      <td>...</td>\n",
       "      <td>...</td>\n",
       "      <td>...</td>\n",
       "      <td>...</td>\n",
       "      <td>...</td>\n",
       "    </tr>\n",
       "    <tr>\n",
       "      <th>1559</th>\n",
       "      <td>개별(일반)</td>\n",
       "      <td>8호선</td>\n",
       "      <td>단대오거리역</td>\n",
       "      <td>54.03</td>\n",
       "      <td>2018-08-31</td>\n",
       "      <td>2023-09-29</td>\n",
       "      <td>7630000.0</td>\n",
       "      <td>NaN</td>\n",
       "    </tr>\n",
       "    <tr>\n",
       "      <th>1560</th>\n",
       "      <td>개별(일반)</td>\n",
       "      <td>8호선</td>\n",
       "      <td>단대오거리역</td>\n",
       "      <td>75.09</td>\n",
       "      <td>2021-03-18</td>\n",
       "      <td>2026-04-17</td>\n",
       "      <td>3780000.0</td>\n",
       "      <td>NaN</td>\n",
       "    </tr>\n",
       "    <tr>\n",
       "      <th>1561</th>\n",
       "      <td>네트워크</td>\n",
       "      <td>8호선</td>\n",
       "      <td>신흥역</td>\n",
       "      <td>40.00</td>\n",
       "      <td>2022-02-03</td>\n",
       "      <td>2027-05-04</td>\n",
       "      <td>4391715.0</td>\n",
       "      <td>NaN</td>\n",
       "    </tr>\n",
       "    <tr>\n",
       "      <th>1562</th>\n",
       "      <td>네트워크</td>\n",
       "      <td>8호선</td>\n",
       "      <td>수진역</td>\n",
       "      <td>40.00</td>\n",
       "      <td>2022-02-03</td>\n",
       "      <td>2027-05-04</td>\n",
       "      <td>4036829.0</td>\n",
       "      <td>NaN</td>\n",
       "    </tr>\n",
       "    <tr>\n",
       "      <th>1563</th>\n",
       "      <td>네트워크</td>\n",
       "      <td>8호선</td>\n",
       "      <td>모란역</td>\n",
       "      <td>50.00</td>\n",
       "      <td>2022-02-03</td>\n",
       "      <td>2027-05-04</td>\n",
       "      <td>3770665.0</td>\n",
       "      <td>NaN</td>\n",
       "    </tr>\n",
       "  </tbody>\n",
       "</table>\n",
       "<p>1564 rows × 8 columns</p>\n",
       "</div>"
      ],
      "text/plain": [
       "        상가유형   호선      역명  면적(제곱미터)      계약시작일자      계약종료일자       월임대료 사업진행단계\n",
       "0     개별(일반)  1호선  서울(1)역     33.00  2019-06-20  2024-06-19   380100.0    NaN\n",
       "1       네트워크  1호선  서울(1)역     12.00  2023-01-16  2028-05-16  3225582.0    NaN\n",
       "2     개별(일반)  1호선  시청(1)역     29.73  2022-08-02  2027-08-02  3166600.0    NaN\n",
       "3     개별(일반)  1호선  시청(1)역     57.60  2020-02-01  2025-01-31  1858300.0    NaN\n",
       "4     개별(일반)  1호선  시청(1)역     25.00  2020-12-31  2026-01-30  2470600.0    NaN\n",
       "...      ...  ...     ...       ...         ...         ...        ...    ...\n",
       "1559  개별(일반)  8호선  단대오거리역     54.03  2018-08-31  2023-09-29  7630000.0    NaN\n",
       "1560  개별(일반)  8호선  단대오거리역     75.09  2021-03-18  2026-04-17  3780000.0    NaN\n",
       "1561    네트워크  8호선     신흥역     40.00  2022-02-03  2027-05-04  4391715.0    NaN\n",
       "1562    네트워크  8호선     수진역     40.00  2022-02-03  2027-05-04  4036829.0    NaN\n",
       "1563    네트워크  8호선     모란역     50.00  2022-02-03  2027-05-04  3770665.0    NaN\n",
       "\n",
       "[1564 rows x 8 columns]"
      ]
     },
     "execution_count": 41,
     "metadata": {},
     "output_type": "execute_result"
    }
   ],
   "source": [
    "data"
   ]
  },
  {
   "cell_type": "code",
   "execution_count": 42,
   "id": "350fda7b",
   "metadata": {},
   "outputs": [
    {
     "name": "stdout",
     "output_type": "stream",
     "text": [
      "<class 'pandas.core.frame.DataFrame'>\n",
      "RangeIndex: 1564 entries, 0 to 1563\n",
      "Data columns (total 8 columns):\n",
      " #   Column    Non-Null Count  Dtype  \n",
      "---  ------    --------------  -----  \n",
      " 0   상가유형      1564 non-null   object \n",
      " 1   호선        1564 non-null   object \n",
      " 2   역명        1564 non-null   object \n",
      " 3   면적(제곱미터)  1502 non-null   float64\n",
      " 4   계약시작일자    1254 non-null   object \n",
      " 5   계약종료일자    1254 non-null   object \n",
      " 6   월임대료      1134 non-null   float64\n",
      " 7   사업진행단계    294 non-null    object \n",
      "dtypes: float64(2), object(6)\n",
      "memory usage: 97.9+ KB\n"
     ]
    }
   ],
   "source": [
    "data.info()"
   ]
  },
  {
   "cell_type": "code",
   "execution_count": 51,
   "id": "2b154ab5",
   "metadata": {},
   "outputs": [],
   "source": [
    "# 역이름 맞추기\n",
    "data.역명 = [re.sub(r\"\\([1-9]\\)\", \"\", i) for i in data.역명]"
   ]
  },
  {
   "cell_type": "code",
   "execution_count": 59,
   "id": "3c7c5b4a",
   "metadata": {},
   "outputs": [
    {
     "data": {
      "text/plain": [
       "{'1단계. 사업계획 수립중', '2단계. 시설물 점검', '3단계. 감정평가', '4단계. 방침수립', '5단계. 입찰공고', nan}"
      ]
     },
     "execution_count": 59,
     "metadata": {},
     "output_type": "execute_result"
    }
   ],
   "source": [
    "set(data.사업진행단계)"
   ]
  },
  {
   "cell_type": "code",
   "execution_count": 67,
   "id": "c09486f8",
   "metadata": {},
   "outputs": [],
   "source": [
    "# 사업진행단계\n",
    "data.사업진행단계 = data.사업진행단계.fillna(0) # NaN은 0으로 설정\n",
    "data.사업진행단계 = [int(i[0]) if type(i) == str else i for i in data.사업진행단계]\n"
   ]
  },
  {
   "cell_type": "code",
   "execution_count": 69,
   "id": "efb90036",
   "metadata": {},
   "outputs": [
    {
     "data": {
      "text/plain": [
       "{'1호선', '2호선', '3호선', '4호선', '5호선', '6호선', '7호선', '8호선'}"
      ]
     },
     "execution_count": 69,
     "metadata": {},
     "output_type": "execute_result"
    }
   ],
   "source": [
    "set(data.호선)"
   ]
  },
  {
   "cell_type": "code",
   "execution_count": 71,
   "id": "0d5666a9",
   "metadata": {},
   "outputs": [
    {
     "data": {
      "text/plain": [
       "212"
      ]
     },
     "execution_count": 71,
     "metadata": {},
     "output_type": "execute_result"
    }
   ],
   "source": [
    "len(set(data.역명))"
   ]
  },
  {
   "cell_type": "code",
   "execution_count": 78,
   "id": "4e8d7099",
   "metadata": {},
   "outputs": [
    {
     "data": {
      "text/plain": [
       "126"
      ]
     },
     "execution_count": 78,
     "metadata": {},
     "output_type": "execute_result"
    }
   ],
   "source": [
    "sum(data.상가유형 == \"공실\")\n"
   ]
  },
  {
   "cell_type": "code",
   "execution_count": 80,
   "id": "94ad2125",
   "metadata": {},
   "outputs": [
    {
     "data": {
      "text/plain": [
       "{1, 2}"
      ]
     },
     "execution_count": 80,
     "metadata": {},
     "output_type": "execute_result"
    }
   ],
   "source": [
    "vacancy = data[data.상가유형 == \"공실\"]\n",
    "set(vacancy.사업진행단계)\n"
   ]
  },
  {
   "cell_type": "code",
   "execution_count": 83,
   "id": "61c3b972",
   "metadata": {},
   "outputs": [
    {
     "data": {
      "text/html": [
       "<div>\n",
       "<style scoped>\n",
       "    .dataframe tbody tr th:only-of-type {\n",
       "        vertical-align: middle;\n",
       "    }\n",
       "\n",
       "    .dataframe tbody tr th {\n",
       "        vertical-align: top;\n",
       "    }\n",
       "\n",
       "    .dataframe thead th {\n",
       "        text-align: right;\n",
       "    }\n",
       "</style>\n",
       "<table border=\"1\" class=\"dataframe\">\n",
       "  <thead>\n",
       "    <tr style=\"text-align: right;\">\n",
       "      <th>호선</th>\n",
       "      <th>1호선</th>\n",
       "      <th>2호선</th>\n",
       "      <th>3호선</th>\n",
       "      <th>4호선</th>\n",
       "      <th>5호선</th>\n",
       "      <th>6호선</th>\n",
       "      <th>7호선</th>\n",
       "      <th>8호선</th>\n",
       "    </tr>\n",
       "    <tr>\n",
       "      <th>상가유형</th>\n",
       "      <th></th>\n",
       "      <th></th>\n",
       "      <th></th>\n",
       "      <th></th>\n",
       "      <th></th>\n",
       "      <th></th>\n",
       "      <th></th>\n",
       "      <th></th>\n",
       "    </tr>\n",
       "  </thead>\n",
       "  <tbody>\n",
       "    <tr>\n",
       "      <th>공실</th>\n",
       "      <td>6</td>\n",
       "      <td>5</td>\n",
       "      <td>14</td>\n",
       "      <td>14</td>\n",
       "      <td>16</td>\n",
       "      <td>25</td>\n",
       "      <td>45</td>\n",
       "      <td>1</td>\n",
       "    </tr>\n",
       "  </tbody>\n",
       "</table>\n",
       "</div>"
      ],
      "text/plain": [
       "호선    1호선  2호선  3호선  4호선  5호선  6호선  7호선  8호선\n",
       "상가유형                                        \n",
       "공실      6    5   14   14   16   25   45    1"
      ]
     },
     "execution_count": 83,
     "metadata": {},
     "output_type": "execute_result"
    }
   ],
   "source": [
    "pd.crosstab(vacancy.상가유형, vacancy.호선)"
   ]
  },
  {
   "cell_type": "code",
   "execution_count": 91,
   "id": "93c0d08d",
   "metadata": {},
   "outputs": [
    {
     "data": {
      "text/html": [
       "<div>\n",
       "<style scoped>\n",
       "    .dataframe tbody tr th:only-of-type {\n",
       "        vertical-align: middle;\n",
       "    }\n",
       "\n",
       "    .dataframe tbody tr th {\n",
       "        vertical-align: top;\n",
       "    }\n",
       "\n",
       "    .dataframe thead th {\n",
       "        text-align: right;\n",
       "    }\n",
       "</style>\n",
       "<table border=\"1\" class=\"dataframe\">\n",
       "  <thead>\n",
       "    <tr style=\"text-align: right;\">\n",
       "      <th>상가유형</th>\n",
       "      <th>공실</th>\n",
       "    </tr>\n",
       "    <tr>\n",
       "      <th>역명</th>\n",
       "      <th></th>\n",
       "    </tr>\n",
       "  </thead>\n",
       "  <tbody>\n",
       "    <tr>\n",
       "      <th>강남구청역</th>\n",
       "      <td>1</td>\n",
       "    </tr>\n",
       "    <tr>\n",
       "      <th>상도역</th>\n",
       "      <td>1</td>\n",
       "    </tr>\n",
       "    <tr>\n",
       "      <th>숙대입구역</th>\n",
       "      <td>1</td>\n",
       "    </tr>\n",
       "    <tr>\n",
       "      <th>신당역</th>\n",
       "      <td>1</td>\n",
       "    </tr>\n",
       "    <tr>\n",
       "      <th>신정역</th>\n",
       "      <td>1</td>\n",
       "    </tr>\n",
       "    <tr>\n",
       "      <th>...</th>\n",
       "      <td>...</td>\n",
       "    </tr>\n",
       "    <tr>\n",
       "      <th>광흥창역</th>\n",
       "      <td>4</td>\n",
       "    </tr>\n",
       "    <tr>\n",
       "      <th>이수역</th>\n",
       "      <td>5</td>\n",
       "    </tr>\n",
       "    <tr>\n",
       "      <th>석계역</th>\n",
       "      <td>6</td>\n",
       "    </tr>\n",
       "    <tr>\n",
       "      <th>청담역</th>\n",
       "      <td>6</td>\n",
       "    </tr>\n",
       "    <tr>\n",
       "      <th>동대문역</th>\n",
       "      <td>6</td>\n",
       "    </tr>\n",
       "  </tbody>\n",
       "</table>\n",
       "<p>61 rows × 1 columns</p>\n",
       "</div>"
      ],
      "text/plain": [
       "상가유형   공실\n",
       "역명       \n",
       "강남구청역   1\n",
       "상도역     1\n",
       "숙대입구역   1\n",
       "신당역     1\n",
       "신정역     1\n",
       "...    ..\n",
       "광흥창역    4\n",
       "이수역     5\n",
       "석계역     6\n",
       "청담역     6\n",
       "동대문역    6\n",
       "\n",
       "[61 rows x 1 columns]"
      ]
     },
     "execution_count": 91,
     "metadata": {},
     "output_type": "execute_result"
    }
   ],
   "source": [
    "pd.crosstab(vacancy.상가유형, vacancy.역명).T.sort_values(by = \"공실\")"
   ]
  },
  {
   "cell_type": "code",
   "execution_count": 73,
   "id": "9008f271",
   "metadata": {},
   "outputs": [],
   "source": [
    "data.to_csv(\"../데이터(1차)/서울시_지하상가_임대정보.csv\", encoding='cp949', index = False)"
   ]
  },
  {
   "cell_type": "code",
   "execution_count": null,
   "id": "5071e736",
   "metadata": {},
   "outputs": [],
   "source": []
  }
 ],
 "metadata": {
  "kernelspec": {
   "display_name": "Python 3 (ipykernel)",
   "language": "python",
   "name": "python3"
  },
  "language_info": {
   "codemirror_mode": {
    "name": "ipython",
    "version": 3
   },
   "file_extension": ".py",
   "mimetype": "text/x-python",
   "name": "python",
   "nbconvert_exporter": "python",
   "pygments_lexer": "ipython3",
   "version": "3.9.13"
  }
 },
 "nbformat": 4,
 "nbformat_minor": 5
}
